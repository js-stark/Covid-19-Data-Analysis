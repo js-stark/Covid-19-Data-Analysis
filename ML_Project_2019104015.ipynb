{
  "nbformat": 4,
  "nbformat_minor": 0,
  "metadata": {
    "colab": {
      "provenance": [],
      "collapsed_sections": []
    },
    "kernelspec": {
      "name": "python3",
      "display_name": "Python 3"
    },
    "language_info": {
      "name": "python"
    }
  },
  "cells": [
    {
      "cell_type": "markdown",
      "source": [
        "# <u>**Capstone** **Project: Infosys Springboard**</u>\n",
        "\n",
        "## **Title    : <u>Exploratory Data Analysis and Machine Learning Model of Covid-19 Dataset.</u>**\n",
        "## Name       : Jayasoruban R\n",
        "## Roll No    : 2019104015\n",
        "## Department : Electrical and Electronics Engineering\n",
        "## Course     : Machine Learning with applications to object recognition\n",
        "\n",
        "\n",
        "Description: \n",
        "The COVID-19 pandemic in India is a part of the worldwide pandemic of coronavirus disease 2019 (COVID-19) caused by severe acute respiratory syndrome coronavirus 2 (SARS-CoV-2). As of 3 November 2022, according to Indian government figures, India has the second-highest number of confirmed cases in the world (after the United States of America) with 44,655,926 reported cases of COVID-19 infection and the third-highest number of COVID-19 deaths (after the United States and Brazil) at 530,461 deaths. In May 2022, the World Health Organization estimated 4.7 million excess deaths, both directly and indirectly related to COVID-19 to have taken place in India."
      ],
      "metadata": {
        "id": "ig2YAVBlSDrZ"
      }
    },
    {
      "cell_type": "markdown",
      "source": [
        "# <u>Table of Contents: </u>\n",
        "\n",
        "\n",
        "\n",
        "1.   Installing and Importing the necessary libraries<br>\n",
        "  1.1 Necessary Imports\n",
        "\n",
        "2.   Exploratory Data Analysis of Covid-19 Dataset<br>\n",
        "  2.1 Checking dataset exists or not in the directory<br>\n",
        "  2.2 EDA of the DataFrame<br>\n",
        "  2.3 Checking the shape, Null or Empty Values and the data types<br>\n",
        "  2.4 Cleaning the Data Frame.<br>\n",
        "\n",
        "3. Plotting the Covid DataPoints<br>\n",
        "  3.1 Total Active and categorical Cases<br>\n",
        "  3.2 Total Weekly Active Cases<br>\n",
        "  3.3 Total Daily Active Cases<br>\n",
        "  3.4 Top Countries with the Most Cases<br>\n",
        "\n",
        "4. Analysis for India and China<br>\n",
        "  4.1 Indian Covid-19 Analysis<br>\n",
        "  4.2 Chinese Covid-19 Analysis<br>\n",
        "\n"
      ],
      "metadata": {
        "id": "P0NHaMP3dWf2"
      }
    },
    {
      "cell_type": "markdown",
      "source": [
        "#### <u>1. Installing and Importing the necessary libraries</u>"
      ],
      "metadata": {
        "id": "U2qWSXKugud3"
      }
    },
    {
      "cell_type": "code",
      "source": [
        "#1.1 The Necessary Imports for the Covid 19 Capstone project\n",
        "## Numerical Computing and DataFrame Imports\n",
        "import numpy as np\n",
        "import pandas as pd\n",
        "\n",
        "## Plotting and Visualization Imports\n",
        "import matplotlib.pyplot as plt\n",
        "import seaborn as sns\n",
        "import datetime as dt\n",
        "from datetime import timedelta\n",
        "\n",
        "# Machine Learning Model, Training Imports and Validation\n",
        "from sklearn.model_selection import train_test_split,TimeSeriesSplit\n",
        "from sklearn.linear_model import LinearRegression\n",
        "from sklearn.linear_model import LinearRegression\n",
        "from sklearn.neighbors import KNeighborsRegressor\n",
        "\n",
        "from sklearn.linear_model import Ridge\n",
        "from sklearn.preprocessing import PolynomialFeatures\n",
        "from sklearn.pipeline import make_pipeline\n",
        "\n",
        "from sklearn.preprocessing import StandardScaler,MinMaxScaler\n",
        "from sklearn.metrics import mean_squared_error\n",
        "from sklearn.svm import SVR\n",
        "\n",
        "# Deep Learning Libraries\n",
        "import tensorflow as tf"
      ],
      "metadata": {
        "id": "Gbjdr-9fUEjw"
      },
      "execution_count": 455,
      "outputs": []
    },
    {
      "cell_type": "markdown",
      "source": [
        "#### <u>2. Exploratory Data Analysis of Covid-19 Dataset</u>"
      ],
      "metadata": {
        "id": "aYl4hp5Fg-HS"
      }
    },
    {
      "cell_type": "code",
      "source": [
        "#2.1 Exploratory Data Analysis of Covid-19 Dataset\n",
        "\n",
        "# Confirming the dataset \n",
        "import os\n",
        "check_dataset = [i=='Covid_Dataset.csv' for i in os.listdir()].count(True)\n",
        "if(check_dataset == 1):\n",
        "  print(\"The Covid 19 Dataset exists in the same directory\")\n"
      ],
      "metadata": {
        "id": "pCTJzG7LYvle",
        "colab": {
          "base_uri": "https://localhost:8080/"
        },
        "outputId": "a55e06d0-0539-49c3-cc5f-2e00587dfb29"
      },
      "execution_count": 492,
      "outputs": [
        {
          "output_type": "stream",
          "name": "stdout",
          "text": [
            "The Covid 19 Dataset exists in the same directory\n"
          ]
        }
      ]
    },
    {
      "cell_type": "code",
      "source": [
        "\n",
        "#2.2 EDA of the Dataset\n",
        "\n",
        "df = pd.read_csv(\"Covid_Dataset.csv\")\n",
        "df.tail(10)"
      ],
      "metadata": {
        "colab": {
          "base_uri": "https://localhost:8080/",
          "height": 363
        },
        "id": "X7LBpjbyfHxi",
        "outputId": "76453861-e022-48df-ae92-beaffb33b476"
      },
      "execution_count": 457,
      "outputs": [
        {
          "output_type": "execute_result",
          "data": {
            "text/plain": [
              "         SNo ObservationDate     Province/State  Country/Region  \\\n",
              "18317  18318      04/24/2020           Virginia              US   \n",
              "18318  18319      04/24/2020         Washington              US   \n",
              "18319  18320      04/24/2020      West Virginia              US   \n",
              "18320  18321      04/24/2020  Western Australia       Australia   \n",
              "18321  18322      04/24/2020          Wisconsin              US   \n",
              "18322  18323      04/24/2020            Wyoming              US   \n",
              "18323  18324      04/24/2020           Xinjiang  Mainland China   \n",
              "18324  18325      04/24/2020              Yukon          Canada   \n",
              "18325  18326      04/24/2020             Yunnan  Mainland China   \n",
              "18326  18327      04/24/2020           Zhejiang  Mainland China   \n",
              "\n",
              "               Last Update  Confirmed  Deaths  Recovered  \n",
              "18317  2020-04-25 06:31:19    11594.0   411.0        0.0  \n",
              "18318  2020-04-25 06:31:19    12977.0   722.0        0.0  \n",
              "18319  2020-04-25 06:31:19     1010.0    32.0        0.0  \n",
              "18320  2020-04-25 06:31:19      548.0     8.0      340.0  \n",
              "18321  2020-04-25 06:31:19     5356.0   263.0        0.0  \n",
              "18322  2020-04-25 06:31:19      473.0     7.0        0.0  \n",
              "18323  2020-04-25 06:31:19       76.0     3.0       73.0  \n",
              "18324  2020-04-25 06:31:19       11.0     0.0        0.0  \n",
              "18325  2020-04-25 06:31:19      185.0     2.0      180.0  \n",
              "18326  2020-04-25 06:31:19     1268.0     1.0     1256.0  "
            ],
            "text/html": [
              "\n",
              "  <div id=\"df-1755fdec-eae3-4daf-b8d3-df306a7a9e68\">\n",
              "    <div class=\"colab-df-container\">\n",
              "      <div>\n",
              "<style scoped>\n",
              "    .dataframe tbody tr th:only-of-type {\n",
              "        vertical-align: middle;\n",
              "    }\n",
              "\n",
              "    .dataframe tbody tr th {\n",
              "        vertical-align: top;\n",
              "    }\n",
              "\n",
              "    .dataframe thead th {\n",
              "        text-align: right;\n",
              "    }\n",
              "</style>\n",
              "<table border=\"1\" class=\"dataframe\">\n",
              "  <thead>\n",
              "    <tr style=\"text-align: right;\">\n",
              "      <th></th>\n",
              "      <th>SNo</th>\n",
              "      <th>ObservationDate</th>\n",
              "      <th>Province/State</th>\n",
              "      <th>Country/Region</th>\n",
              "      <th>Last Update</th>\n",
              "      <th>Confirmed</th>\n",
              "      <th>Deaths</th>\n",
              "      <th>Recovered</th>\n",
              "    </tr>\n",
              "  </thead>\n",
              "  <tbody>\n",
              "    <tr>\n",
              "      <th>18317</th>\n",
              "      <td>18318</td>\n",
              "      <td>04/24/2020</td>\n",
              "      <td>Virginia</td>\n",
              "      <td>US</td>\n",
              "      <td>2020-04-25 06:31:19</td>\n",
              "      <td>11594.0</td>\n",
              "      <td>411.0</td>\n",
              "      <td>0.0</td>\n",
              "    </tr>\n",
              "    <tr>\n",
              "      <th>18318</th>\n",
              "      <td>18319</td>\n",
              "      <td>04/24/2020</td>\n",
              "      <td>Washington</td>\n",
              "      <td>US</td>\n",
              "      <td>2020-04-25 06:31:19</td>\n",
              "      <td>12977.0</td>\n",
              "      <td>722.0</td>\n",
              "      <td>0.0</td>\n",
              "    </tr>\n",
              "    <tr>\n",
              "      <th>18319</th>\n",
              "      <td>18320</td>\n",
              "      <td>04/24/2020</td>\n",
              "      <td>West Virginia</td>\n",
              "      <td>US</td>\n",
              "      <td>2020-04-25 06:31:19</td>\n",
              "      <td>1010.0</td>\n",
              "      <td>32.0</td>\n",
              "      <td>0.0</td>\n",
              "    </tr>\n",
              "    <tr>\n",
              "      <th>18320</th>\n",
              "      <td>18321</td>\n",
              "      <td>04/24/2020</td>\n",
              "      <td>Western Australia</td>\n",
              "      <td>Australia</td>\n",
              "      <td>2020-04-25 06:31:19</td>\n",
              "      <td>548.0</td>\n",
              "      <td>8.0</td>\n",
              "      <td>340.0</td>\n",
              "    </tr>\n",
              "    <tr>\n",
              "      <th>18321</th>\n",
              "      <td>18322</td>\n",
              "      <td>04/24/2020</td>\n",
              "      <td>Wisconsin</td>\n",
              "      <td>US</td>\n",
              "      <td>2020-04-25 06:31:19</td>\n",
              "      <td>5356.0</td>\n",
              "      <td>263.0</td>\n",
              "      <td>0.0</td>\n",
              "    </tr>\n",
              "    <tr>\n",
              "      <th>18322</th>\n",
              "      <td>18323</td>\n",
              "      <td>04/24/2020</td>\n",
              "      <td>Wyoming</td>\n",
              "      <td>US</td>\n",
              "      <td>2020-04-25 06:31:19</td>\n",
              "      <td>473.0</td>\n",
              "      <td>7.0</td>\n",
              "      <td>0.0</td>\n",
              "    </tr>\n",
              "    <tr>\n",
              "      <th>18323</th>\n",
              "      <td>18324</td>\n",
              "      <td>04/24/2020</td>\n",
              "      <td>Xinjiang</td>\n",
              "      <td>Mainland China</td>\n",
              "      <td>2020-04-25 06:31:19</td>\n",
              "      <td>76.0</td>\n",
              "      <td>3.0</td>\n",
              "      <td>73.0</td>\n",
              "    </tr>\n",
              "    <tr>\n",
              "      <th>18324</th>\n",
              "      <td>18325</td>\n",
              "      <td>04/24/2020</td>\n",
              "      <td>Yukon</td>\n",
              "      <td>Canada</td>\n",
              "      <td>2020-04-25 06:31:19</td>\n",
              "      <td>11.0</td>\n",
              "      <td>0.0</td>\n",
              "      <td>0.0</td>\n",
              "    </tr>\n",
              "    <tr>\n",
              "      <th>18325</th>\n",
              "      <td>18326</td>\n",
              "      <td>04/24/2020</td>\n",
              "      <td>Yunnan</td>\n",
              "      <td>Mainland China</td>\n",
              "      <td>2020-04-25 06:31:19</td>\n",
              "      <td>185.0</td>\n",
              "      <td>2.0</td>\n",
              "      <td>180.0</td>\n",
              "    </tr>\n",
              "    <tr>\n",
              "      <th>18326</th>\n",
              "      <td>18327</td>\n",
              "      <td>04/24/2020</td>\n",
              "      <td>Zhejiang</td>\n",
              "      <td>Mainland China</td>\n",
              "      <td>2020-04-25 06:31:19</td>\n",
              "      <td>1268.0</td>\n",
              "      <td>1.0</td>\n",
              "      <td>1256.0</td>\n",
              "    </tr>\n",
              "  </tbody>\n",
              "</table>\n",
              "</div>\n",
              "      <button class=\"colab-df-convert\" onclick=\"convertToInteractive('df-1755fdec-eae3-4daf-b8d3-df306a7a9e68')\"\n",
              "              title=\"Convert this dataframe to an interactive table.\"\n",
              "              style=\"display:none;\">\n",
              "        \n",
              "  <svg xmlns=\"http://www.w3.org/2000/svg\" height=\"24px\"viewBox=\"0 0 24 24\"\n",
              "       width=\"24px\">\n",
              "    <path d=\"M0 0h24v24H0V0z\" fill=\"none\"/>\n",
              "    <path d=\"M18.56 5.44l.94 2.06.94-2.06 2.06-.94-2.06-.94-.94-2.06-.94 2.06-2.06.94zm-11 1L8.5 8.5l.94-2.06 2.06-.94-2.06-.94L8.5 2.5l-.94 2.06-2.06.94zm10 10l.94 2.06.94-2.06 2.06-.94-2.06-.94-.94-2.06-.94 2.06-2.06.94z\"/><path d=\"M17.41 7.96l-1.37-1.37c-.4-.4-.92-.59-1.43-.59-.52 0-1.04.2-1.43.59L10.3 9.45l-7.72 7.72c-.78.78-.78 2.05 0 2.83L4 21.41c.39.39.9.59 1.41.59.51 0 1.02-.2 1.41-.59l7.78-7.78 2.81-2.81c.8-.78.8-2.07 0-2.86zM5.41 20L4 18.59l7.72-7.72 1.47 1.35L5.41 20z\"/>\n",
              "  </svg>\n",
              "      </button>\n",
              "      \n",
              "  <style>\n",
              "    .colab-df-container {\n",
              "      display:flex;\n",
              "      flex-wrap:wrap;\n",
              "      gap: 12px;\n",
              "    }\n",
              "\n",
              "    .colab-df-convert {\n",
              "      background-color: #E8F0FE;\n",
              "      border: none;\n",
              "      border-radius: 50%;\n",
              "      cursor: pointer;\n",
              "      display: none;\n",
              "      fill: #1967D2;\n",
              "      height: 32px;\n",
              "      padding: 0 0 0 0;\n",
              "      width: 32px;\n",
              "    }\n",
              "\n",
              "    .colab-df-convert:hover {\n",
              "      background-color: #E2EBFA;\n",
              "      box-shadow: 0px 1px 2px rgba(60, 64, 67, 0.3), 0px 1px 3px 1px rgba(60, 64, 67, 0.15);\n",
              "      fill: #174EA6;\n",
              "    }\n",
              "\n",
              "    [theme=dark] .colab-df-convert {\n",
              "      background-color: #3B4455;\n",
              "      fill: #D2E3FC;\n",
              "    }\n",
              "\n",
              "    [theme=dark] .colab-df-convert:hover {\n",
              "      background-color: #434B5C;\n",
              "      box-shadow: 0px 1px 3px 1px rgba(0, 0, 0, 0.15);\n",
              "      filter: drop-shadow(0px 1px 2px rgba(0, 0, 0, 0.3));\n",
              "      fill: #FFFFFF;\n",
              "    }\n",
              "  </style>\n",
              "\n",
              "      <script>\n",
              "        const buttonEl =\n",
              "          document.querySelector('#df-1755fdec-eae3-4daf-b8d3-df306a7a9e68 button.colab-df-convert');\n",
              "        buttonEl.style.display =\n",
              "          google.colab.kernel.accessAllowed ? 'block' : 'none';\n",
              "\n",
              "        async function convertToInteractive(key) {\n",
              "          const element = document.querySelector('#df-1755fdec-eae3-4daf-b8d3-df306a7a9e68');\n",
              "          const dataTable =\n",
              "            await google.colab.kernel.invokeFunction('convertToInteractive',\n",
              "                                                     [key], {});\n",
              "          if (!dataTable) return;\n",
              "\n",
              "          const docLinkHtml = 'Like what you see? Visit the ' +\n",
              "            '<a target=\"_blank\" href=https://colab.research.google.com/notebooks/data_table.ipynb>data table notebook</a>'\n",
              "            + ' to learn more about interactive tables.';\n",
              "          element.innerHTML = '';\n",
              "          dataTable['output_type'] = 'display_data';\n",
              "          await google.colab.output.renderOutput(dataTable, element);\n",
              "          const docLink = document.createElement('div');\n",
              "          docLink.innerHTML = docLinkHtml;\n",
              "          element.appendChild(docLink);\n",
              "        }\n",
              "      </script>\n",
              "    </div>\n",
              "  </div>\n",
              "  "
            ]
          },
          "metadata": {},
          "execution_count": 457
        }
      ]
    },
    {
      "cell_type": "code",
      "source": [
        "# Total Datapoints present in the Dataset\n",
        "print(\"Total Number of Measurements\",df.size)"
      ],
      "metadata": {
        "colab": {
          "base_uri": "https://localhost:8080/"
        },
        "id": "WB5QMhnPrXZ4",
        "outputId": "52e7f9a5-c664-41ca-8356-1afef9e2885b"
      },
      "execution_count": 458,
      "outputs": [
        {
          "output_type": "stream",
          "name": "stdout",
          "text": [
            "Total Number of Measurements 146616\n"
          ]
        }
      ]
    },
    {
      "cell_type": "code",
      "source": [
        "#2.3 Checking the shape, Null or Empty Values and the data types\n",
        "\n",
        "print(\"shape: \",df.shape,'\\n')\n",
        "\n",
        "print(\"Null Values:\\n\")\n",
        "print(df.isnull().sum(),'\\n')\n",
        "\n",
        "print(\"Data Types of Each Column: \\n\")\n",
        "print(df.dtypes)"
      ],
      "metadata": {
        "colab": {
          "base_uri": "https://localhost:8080/"
        },
        "id": "DDZ7_pzAhfea",
        "outputId": "3b4bfb2e-4cd2-49ca-c68f-8e92746897f0"
      },
      "execution_count": 459,
      "outputs": [
        {
          "output_type": "stream",
          "name": "stdout",
          "text": [
            "shape:  (18327, 8) \n",
            "\n",
            "Null Values:\n",
            "\n",
            "SNo                   0\n",
            "ObservationDate       0\n",
            "Province/State     9277\n",
            "Country/Region        0\n",
            "Last Update           0\n",
            "Confirmed             0\n",
            "Deaths                0\n",
            "Recovered             0\n",
            "dtype: int64 \n",
            "\n",
            "Data Types of Each Column: \n",
            "\n",
            "SNo                  int64\n",
            "ObservationDate     object\n",
            "Province/State      object\n",
            "Country/Region      object\n",
            "Last Update         object\n",
            "Confirmed          float64\n",
            "Deaths             float64\n",
            "Recovered          float64\n",
            "dtype: object\n"
          ]
        }
      ]
    },
    {
      "cell_type": "code",
      "source": [
        "#2.4 Cleaning the DataFrame\n",
        "df.drop(\"SNo\",axis=1,inplace=True)"
      ],
      "metadata": {
        "id": "48qPhCJIitt3"
      },
      "execution_count": 460,
      "outputs": []
    },
    {
      "cell_type": "code",
      "source": [
        "# Checking the NULL Values present in the Dataset\n",
        "max_null = df.isnull().sum().max()\n",
        "print(\"The maximum number of NULL Values: \",max_null)"
      ],
      "metadata": {
        "colab": {
          "base_uri": "https://localhost:8080/"
        },
        "id": "SclVOfnioIwA",
        "outputId": "24706ef9-a130-441c-988b-0f430b18432b"
      },
      "execution_count": 461,
      "outputs": [
        {
          "output_type": "stream",
          "name": "stdout",
          "text": [
            "The maximum number of NULL Values:  9277\n"
          ]
        }
      ]
    },
    {
      "cell_type": "code",
      "source": [
        "# Checking all the Countries present in the Dataset\n",
        "countries = df['Country/Region'].unique()\n",
        "print(\"The Total number of countries in the Dataset: \",countries.size)\n",
        "print(countries[:70])"
      ],
      "metadata": {
        "colab": {
          "base_uri": "https://localhost:8080/"
        },
        "id": "wWoaxpSjpDWt",
        "outputId": "8f25c920-b8e1-4d26-b9c8-f294f029c089"
      },
      "execution_count": 462,
      "outputs": [
        {
          "output_type": "stream",
          "name": "stdout",
          "text": [
            "The Total number of countries in the Dataset:  220\n",
            "['Mainland China' 'Hong Kong' 'Macau' 'Taiwan' 'US' 'Japan' 'Thailand'\n",
            " 'South Korea' 'Singapore' 'Philippines' 'Malaysia' 'Vietnam' 'Australia'\n",
            " 'Mexico' 'Brazil' 'Colombia' 'France' 'Nepal' 'Canada' 'Cambodia'\n",
            " 'Sri Lanka' 'Ivory Coast' 'Germany' 'Finland' 'United Arab Emirates'\n",
            " 'India' 'Italy' 'UK' 'Russia' 'Sweden' 'Spain' 'Belgium' 'Others' 'Egypt'\n",
            " 'Iran' 'Israel' 'Lebanon' 'Iraq' 'Oman' 'Afghanistan' 'Bahrain' 'Kuwait'\n",
            " 'Austria' 'Algeria' 'Croatia' 'Switzerland' 'Pakistan' 'Georgia' 'Greece'\n",
            " 'North Macedonia' 'Norway' 'Romania' 'Denmark' 'Estonia' 'Netherlands'\n",
            " 'San Marino' ' Azerbaijan' 'Belarus' 'Iceland' 'Lithuania' 'New Zealand'\n",
            " 'Nigeria' 'North Ireland' 'Ireland' 'Luxembourg' 'Monaco' 'Qatar'\n",
            " 'Ecuador' 'Azerbaijan' 'Czech Republic']\n"
          ]
        }
      ]
    },
    {
      "cell_type": "code",
      "source": [
        "# Maximum measured Country\n",
        "print(\"Top countries with maximum measurements: \")\n",
        "df['Country/Region'].value_counts()[:10]"
      ],
      "metadata": {
        "colab": {
          "base_uri": "https://localhost:8080/"
        },
        "id": "X8YIv2Vsp4HH",
        "outputId": "0e6f14bc-e3de-4c7b-f92f-a835ab25245e"
      },
      "execution_count": 463,
      "outputs": [
        {
          "output_type": "stream",
          "name": "stdout",
          "text": [
            "Top countries with maximum measurements: \n"
          ]
        },
        {
          "output_type": "execute_result",
          "data": {
            "text/plain": [
              "US                3540\n",
              "Mainland China    2912\n",
              "Canada             728\n",
              "Australia          588\n",
              "France             477\n",
              "UK                 431\n",
              "Netherlands        195\n",
              "Denmark            140\n",
              "Hong Kong           94\n",
              "South Korea         94\n",
              "Name: Country/Region, dtype: int64"
            ]
          },
          "metadata": {},
          "execution_count": 463
        }
      ]
    },
    {
      "cell_type": "code",
      "source": [
        "from pandas.core.reshape.tile import to_datetime\n",
        "#Making the Date to suit the Inbuilt Datetime format\n",
        "\n",
        "df['ObservationDate'] = pd.to_datetime(df['ObservationDate'])"
      ],
      "metadata": {
        "id": "Y03x9ozqqfu3"
      },
      "execution_count": 464,
      "outputs": []
    },
    {
      "cell_type": "code",
      "source": [
        "x = df.groupby(['ObservationDate']).sum()\n",
        "print(\"Total Confirmed cases as of the Last date worldwide: \",x['Confirmed'][-1])\n",
        "print(\"Total Death cases as of the Last date worldwide : \",x['Deaths'][-1])\n",
        "print(\"Total Recovered cases as of the Last date worldwide : \",x['Recovered'][-1])"
      ],
      "metadata": {
        "colab": {
          "base_uri": "https://localhost:8080/"
        },
        "id": "5xw_mRa0uIVf",
        "outputId": "632249fc-07e6-481d-b0e2-6a6041c7698d"
      },
      "execution_count": 465,
      "outputs": [
        {
          "output_type": "stream",
          "name": "stdout",
          "text": [
            "Total Confirmed cases as of the Last date worldwide:  2811193.0\n",
            "Total Death cases as of the Last date worldwide :  197159.0\n",
            "Total Recovered cases as of the Last date worldwide :  793601.0\n"
          ]
        }
      ]
    },
    {
      "cell_type": "markdown",
      "source": [
        "#### <u>3. Plotting the Covid-19 Datapoints</u>"
      ],
      "metadata": {
        "id": "MD0dS0BGKyh-"
      }
    },
    {
      "cell_type": "code",
      "source": [
        "# Plotting the Total Number of Active cases daily from the Start of measurement\n",
        "fig,axes = plt.subplots(2,2,figsize=(17,12))\n",
        "x = df.groupby(['ObservationDate']).sum().index\n",
        "\n",
        "y1 = df.groupby(['ObservationDate']).sum()['Confirmed']\n",
        "y2 = df.groupby(['ObservationDate']).sum()['Deaths']\n",
        "y3 = df.groupby(['ObservationDate']).sum()['Recovered']\n",
        "y4 = y1 - y2 - y3\n",
        "\n",
        "axes[0,0].plot(x,y1,'m--*')\n",
        "axes[0,1].plot(x,y2,'b--o')\n",
        "axes[1,0].plot(x,y3,'r--o')\n",
        "axes[1,1].plot(x,y4,'g--*')\n",
        "\n",
        "axes[0,0].set_xlabel('Date')\n",
        "axes[0,1].set_xlabel('Date')\n",
        "axes[1,0].set_xlabel('Date')\n",
        "axes[1,1].set_xlabel('Date')\n",
        "\n",
        "axes[0,0].set_ylabel('Confirmed')\n",
        "axes[0,1].set_ylabel('Deaths')\n",
        "axes[1,0].set_ylabel('Recovered')\n",
        "axes[1,1].set_ylabel('Active')"
      ],
      "metadata": {
        "colab": {
          "base_uri": "https://localhost:8080/",
          "height": 742
        },
        "id": "ifu2gKQruR4s",
        "outputId": "3ee4d8c9-d122-4b0b-f9c3-27d96b070a65"
      },
      "execution_count": 466,
      "outputs": [
        {
          "output_type": "execute_result",
          "data": {
            "text/plain": [
              "Text(0, 0.5, 'Active')"
            ]
          },
          "metadata": {},
          "execution_count": 466
        },
        {
          "output_type": "display_data",
          "data": {
            "text/plain": [
              "<Figure size 1224x864 with 4 Axes>"
            ],
            "image/png": "[encoded data removed]"
          },
          "metadata": {
            "needs_background": "light"
          }
        }
      ]
    },
    {
      "cell_type": "code",
      "source": [
        "week = df.groupby(['ObservationDate']).sum().index.isocalendar().week\n",
        "\n",
        "y1 = df.groupby(['ObservationDate']).sum()['Confirmed']\n",
        "y2 = df.groupby(['ObservationDate']).sum()['Deaths']\n",
        "y3 = df.groupby(['ObservationDate']).sum()['Recovered']\n",
        "\n",
        "week_wise_confirmed = []\n",
        "week_wise_deaths = []\n",
        "week_wise_recovered = []\n",
        "\n",
        "check = week[0]\n",
        "cases_sum = 0\n",
        "for i,j in zip(week,y1):\n",
        "  if(i!=check):\n",
        "    check = i\n",
        "    week_wise_confirmed.append(cases_sum)\n",
        "    cases_sum = 0\n",
        "  cases_sum += j\n",
        "week_wise_confirmed.append(cases_sum)\n",
        "\n",
        "check = week[0]\n",
        "cases_sum = 0\n",
        "for i,j in zip(week,y2):\n",
        "  if(i!=check):\n",
        "    check = i\n",
        "    week_wise_deaths.append(cases_sum)\n",
        "    cases_sum = 0\n",
        "  cases_sum += j\n",
        "week_wise_deaths.append(cases_sum)\n",
        "\n",
        "check = week[0]\n",
        "cases_sum = 0\n",
        "for i,j in zip(week,y3):\n",
        "  if(i!=check):\n",
        "    check = i\n",
        "    week_wise_recovered.append(cases_sum)\n",
        "    cases_sum = 0\n",
        "  cases_sum += j\n",
        "week_wise_recovered.append(cases_sum)\n",
        "\n",
        "\n"
      ],
      "metadata": {
        "id": "Qp-0POod3Ym8"
      },
      "execution_count": 467,
      "outputs": []
    },
    {
      "cell_type": "code",
      "source": [
        "weeks = []\n",
        "for i in week:\n",
        "  if(i not in weeks):\n",
        "    weeks.append(i)\n",
        "weeks"
      ],
      "metadata": {
        "colab": {
          "base_uri": "https://localhost:8080/"
        },
        "id": "Y5hwqEoG-LOf",
        "outputId": "d0140f95-bbf1-4213-bb2d-fc06bb465ea8"
      },
      "execution_count": 468,
      "outputs": [
        {
          "output_type": "execute_result",
          "data": {
            "text/plain": [
              "[4, 5, 6, 7, 8, 9, 10, 11, 12, 13, 14, 15, 16, 17]"
            ]
          },
          "metadata": {},
          "execution_count": 468
        }
      ]
    },
    {
      "cell_type": "code",
      "source": [
        "#Weekly Plots\n",
        "plt.figure(figsize=(10,6))\n",
        "plt.plot(weeks,week_wise_confirmed,linewidth=3,color='r')\n",
        "plt.plot(weeks,week_wise_deaths,linewidth =3,color='g')\n",
        "plt.plot(weeks,week_wise_recovered,linewidth = 3,color='y')\n",
        "plt.xlabel(\"Week of the year\")\n",
        "plt.ylabel(\"Total Cases\")\n",
        "plt.title(\"Weekly Progress of different types of cases\")\n",
        "plt.show()"
      ],
      "metadata": {
        "colab": {
          "base_uri": "https://localhost:8080/",
          "height": 404
        },
        "id": "jmGZjTtr3s0n",
        "outputId": "fa4fb192-be9b-4fc7-e61a-c749383f291b"
      },
      "execution_count": 469,
      "outputs": [
        {
          "output_type": "display_data",
          "data": {
            "text/plain": [
              "<Figure size 720x432 with 1 Axes>"
            ],
            "image/png": "[encoded data removed]"
          },
          "metadata": {
            "needs_background": "light"
          }
        }
      ]
    },
    {
      "cell_type": "code",
      "source": [
        "fig,axes = plt.subplots(1,2,figsize=(20,6),squeeze=False)\n",
        "axes[0,0].bar(weeks,week_wise_confirmed,color='#CE9FFC')\n",
        "axes[0,1].bar(weeks,week_wise_deaths,color='#EA5455')\n",
        "\n",
        "axes[0,0].set_title(\"Weekwise Confirmed cases\")\n",
        "axes[0,0].set_xlabel('Weeks')\n",
        "axes[0,0].set_ylabel('Confirmed Cases')\n",
        "\n",
        "axes[0,1].set_title(\"Weekwise Confirmed Deaths\")\n",
        "axes[0,1].set_xlabel('Weeks')\n",
        "axes[0,1].set_ylabel('Death Cases')\n"
      ],
      "metadata": {
        "colab": {
          "base_uri": "https://localhost:8080/",
          "height": 421
        },
        "id": "E8Q7bahK8peY",
        "outputId": "be76fbdd-d62c-4fbb-99bf-ea9c96b73bdd"
      },
      "execution_count": 470,
      "outputs": [
        {
          "output_type": "execute_result",
          "data": {
            "text/plain": [
              "Text(0, 0.5, 'Death Cases')"
            ]
          },
          "metadata": {},
          "execution_count": 470
        },
        {
          "output_type": "display_data",
          "data": {
            "text/plain": [
              "<Figure size 1440x432 with 2 Axes>"
            ],
            "image/png": "[encoded data removed]"
          },
          "metadata": {
            "needs_background": "light"
          }
        }
      ]
    },
    {
      "cell_type": "code",
      "source": [
        "plt.figure(figsize=(18,8))\n",
        "plt.plot( df.groupby(['ObservationDate']).sum()['Confirmed'].diff().fillna(0),label=\"Daily Confirmed Cases\",color='#E80505')\n",
        "plt.plot( df.groupby(['ObservationDate']).sum()['Recovered'].diff().fillna(0),label=\"Daily Recovered Cases\",color='#3CD500')\n",
        "plt.plot( df.groupby(['ObservationDate']).sum()['Deaths'].diff().fillna(0),label=\"Daily Death Cases\",color='#C32BAC')\n",
        "plt.xlabel(\"3 months timeframe\")\n",
        "plt.ylabel(\"Daily increase\")\n",
        "plt.title(\"Daily Covid-19 Cases Worldwide\")\n",
        "plt.legend()\n",
        "plt.show()"
      ],
      "metadata": {
        "colab": {
          "base_uri": "https://localhost:8080/",
          "height": 513
        },
        "id": "AB6Rt4q7Amy0",
        "outputId": "a3ebc940-3fd0-43ea-e491-baa43dadcb1a"
      },
      "execution_count": 471,
      "outputs": [
        {
          "output_type": "display_data",
          "data": {
            "text/plain": [
              "<Figure size 1296x576 with 1 Axes>"
            ],
            "image/png": "[encoded data removed]"
          },
          "metadata": {
            "needs_background": "light"
          }
        }
      ]
    },
    {
      "cell_type": "code",
      "source": [
        "#Top Countries with the most number of Cases and Deaths\n",
        "\n",
        "plt.figure(figsize=(20,10))\n",
        "x = df['Country/Region'].value_counts().sort_values()[-10:].index\n",
        "y = df['Country/Region'].value_counts().sort_values()[-10:]\n",
        "\n",
        "plt.pie(y,labels=x)\n",
        "plt.title(\"Countries with the most number of cases\")\n",
        "plt.legend()\n",
        "plt.show()\n"
      ],
      "metadata": {
        "id": "UgIqUY_dDuY1",
        "colab": {
          "base_uri": "https://localhost:8080/",
          "height": 591
        },
        "outputId": "bce04f14-3664-460c-ed64-83afeee83e34"
      },
      "execution_count": 472,
      "outputs": [
        {
          "output_type": "display_data",
          "data": {
            "text/plain": [
              "<Figure size 1440x720 with 1 Axes>"
            ],
            "image/png": "[encoded data removed]"
          },
          "metadata": {}
        }
      ]
    },
    {
      "cell_type": "markdown",
      "source": [
        "#### <u>3. Analysis for India and China</u>"
      ],
      "metadata": {
        "id": "wjqJImvzLahR"
      }
    },
    {
      "cell_type": "code",
      "source": [
        "# Checking the Confirmed, Recovered and Deaths for Indian Standpoint View\n",
        "Indian_cases = df[df['Country/Region']=='India']\n",
        "x = Indian_cases.groupby(['ObservationDate']).sum().index\n",
        "y = Indian_cases.groupby(['ObservationDate']).sum().diff().fillna(0)\n",
        "\n",
        "fig,axes = plt.subplots(1,3,figsize=(22,7),squeeze=False)\n",
        "axes[0,0].bar(x,y['Confirmed'])\n",
        "axes[0,1].bar(x,y['Recovered'])\n",
        "axes[0,2].bar(x,y['Deaths'])\n",
        "\n",
        "print(\"The Trend in India in terms of the cases and Deaths seems to Increase but the recovery rate is also considerebly good comparitively\")"
      ],
      "metadata": {
        "colab": {
          "base_uri": "https://localhost:8080/",
          "height": 445
        },
        "id": "42tmqR8LL2Wb",
        "outputId": "f1332813-db05-4fde-a79c-66c8e3cccf9b"
      },
      "execution_count": 473,
      "outputs": [
        {
          "output_type": "stream",
          "name": "stdout",
          "text": [
            "The Trend in India in terms of the cases and Deaths seems to Increase but the recovery rate is also considerebly good comparitively\n"
          ]
        },
        {
          "output_type": "display_data",
          "data": {
            "text/plain": [
              "<Figure size 1584x504 with 3 Axes>"
            ],
            "image/png": "[encoded data removed]"
          },
          "metadata": {
            "needs_background": "light"
          }
        }
      ]
    },
    {
      "cell_type": "code",
      "source": [
        "# Checking the Confirmed, Recovered and Deaths for Chinese Standpoint View\n",
        "Indian_cases = df[df['Country/Region']=='Mainland China']\n",
        "x = Indian_cases.groupby(['ObservationDate']).sum().index\n",
        "y = Indian_cases.groupby(['ObservationDate']).sum().diff().fillna(0)\n",
        "\n",
        "fig,axes = plt.subplots(1,3,figsize=(22,7),squeeze=False)\n",
        "axes[0,0].bar(x,y['Confirmed'])\n",
        "axes[0,1].bar(x,y['Recovered'])\n",
        "axes[0,2].bar(x,y['Deaths'])\n",
        "\n",
        "print(\"The Trend in China in terms of the cases and Deaths seems to Increase and Decrease drastically and has a good recovery rate compared to India\")"
      ],
      "metadata": {
        "colab": {
          "base_uri": "https://localhost:8080/",
          "height": 445
        },
        "id": "H9ZpPjEoMU-f",
        "outputId": "f18ec44a-d148-4dd6-b27a-e342a6f3c509"
      },
      "execution_count": 474,
      "outputs": [
        {
          "output_type": "stream",
          "name": "stdout",
          "text": [
            "The Trend in China in terms of the cases and Deaths seems to Increase and Decrease drastically and has a good recovery rate compared to India\n"
          ]
        },
        {
          "output_type": "display_data",
          "data": {
            "text/plain": [
              "<Figure size 1584x504 with 3 Axes>"
            ],
            "image/png": "[encoded data removed]"
          },
          "metadata": {
            "needs_background": "light"
          }
        }
      ]
    },
    {
      "cell_type": "markdown",
      "source": [
        "#5. <u> Machine Learning Model Development </u>"
      ],
      "metadata": {
        "id": "0RU6AE15lrMq"
      }
    },
    {
      "cell_type": "code",
      "source": [
        "covid_sum_num = df['Confirmed'] + df['Deaths'] + df['Recovered']\n",
        "covid_sum_den = 3*((1/df['Confirmed']) + (1/df['Deaths'])+ (1/df['Recovered']))\n",
        "\n",
        "df['covid_close'] = covid_sum_num / covid_sum_den"
      ],
      "metadata": {
        "id": "NvrPnd6zl6Jg"
      },
      "execution_count": 475,
      "outputs": []
    },
    {
      "cell_type": "code",
      "source": [
        "df = df[df['covid_close'] != 0]"
      ],
      "metadata": {
        "id": "GCgU_M4enUSO"
      },
      "execution_count": 476,
      "outputs": []
    },
    {
      "cell_type": "code",
      "source": [
        "df = df.drop(['ObservationDate','Province/State','Country/Region','Last Update'],axis=1)\n",
        "df. reset_index (inplace= True)"
      ],
      "metadata": {
        "id": "n9lprAZenVSb"
      },
      "execution_count": 477,
      "outputs": []
    },
    {
      "cell_type": "code",
      "source": [
        "df"
      ],
      "metadata": {
        "colab": {
          "base_uri": "https://localhost:8080/",
          "height": 424
        },
        "id": "C7DgI0aTozib",
        "outputId": "45c0bf19-097e-48b5-fa0d-f1fb19f7c0b7"
      },
      "execution_count": 478,
      "outputs": [
        {
          "output_type": "execute_result",
          "data": {
            "text/plain": [
              "      index  Confirmed  Deaths  Recovered   covid_close\n",
              "0        13      444.0    17.0       28.0   1684.057098\n",
              "1        51      444.0    17.0       28.0   1684.057098\n",
              "2        84      549.0    24.0       31.0   2657.998255\n",
              "3       125      761.0    40.0       32.0   4823.611547\n",
              "4       169     1058.0    52.0       42.0   8730.155142\n",
              "...     ...        ...     ...        ...           ...\n",
              "7335  18315     1343.0    16.0     1172.0  13162.169186\n",
              "7336  18320      548.0     8.0      340.0   2301.578846\n",
              "7337  18323       76.0     3.0       73.0    140.666555\n",
              "7338  18325      185.0     2.0      180.0    239.418160\n",
              "7339  18326     1268.0     1.0     1256.0    840.334886\n",
              "\n",
              "[7340 rows x 5 columns]"
            ],
            "text/html": [
              "\n",
              "  <div id=\"df-db94eb3f-89c6-4a9d-b4a6-ed3702d2f33c\">\n",
              "    <div class=\"colab-df-container\">\n",
              "      <div>\n",
              "<style scoped>\n",
              "    .dataframe tbody tr th:only-of-type {\n",
              "        vertical-align: middle;\n",
              "    }\n",
              "\n",
              "    .dataframe tbody tr th {\n",
              "        vertical-align: top;\n",
              "    }\n",
              "\n",
              "    .dataframe thead th {\n",
              "        text-align: right;\n",
              "    }\n",
              "</style>\n",
              "<table border=\"1\" class=\"dataframe\">\n",
              "  <thead>\n",
              "    <tr style=\"text-align: right;\">\n",
              "      <th></th>\n",
              "      <th>index</th>\n",
              "      <th>Confirmed</th>\n",
              "      <th>Deaths</th>\n",
              "      <th>Recovered</th>\n",
              "      <th>covid_close</th>\n",
              "    </tr>\n",
              "  </thead>\n",
              "  <tbody>\n",
              "    <tr>\n",
              "      <th>0</th>\n",
              "      <td>13</td>\n",
              "      <td>444.0</td>\n",
              "      <td>17.0</td>\n",
              "      <td>28.0</td>\n",
              "      <td>1684.057098</td>\n",
              "    </tr>\n",
              "    <tr>\n",
              "      <th>1</th>\n",
              "      <td>51</td>\n",
              "      <td>444.0</td>\n",
              "      <td>17.0</td>\n",
              "      <td>28.0</td>\n",
              "      <td>1684.057098</td>\n",
              "    </tr>\n",
              "    <tr>\n",
              "      <th>2</th>\n",
              "      <td>84</td>\n",
              "      <td>549.0</td>\n",
              "      <td>24.0</td>\n",
              "      <td>31.0</td>\n",
              "      <td>2657.998255</td>\n",
              "    </tr>\n",
              "    <tr>\n",
              "      <th>3</th>\n",
              "      <td>125</td>\n",
              "      <td>761.0</td>\n",
              "      <td>40.0</td>\n",
              "      <td>32.0</td>\n",
              "      <td>4823.611547</td>\n",
              "    </tr>\n",
              "    <tr>\n",
              "      <th>4</th>\n",
              "      <td>169</td>\n",
              "      <td>1058.0</td>\n",
              "      <td>52.0</td>\n",
              "      <td>42.0</td>\n",
              "      <td>8730.155142</td>\n",
              "    </tr>\n",
              "    <tr>\n",
              "      <th>...</th>\n",
              "      <td>...</td>\n",
              "      <td>...</td>\n",
              "      <td>...</td>\n",
              "      <td>...</td>\n",
              "      <td>...</td>\n",
              "    </tr>\n",
              "    <tr>\n",
              "      <th>7335</th>\n",
              "      <td>18315</td>\n",
              "      <td>1343.0</td>\n",
              "      <td>16.0</td>\n",
              "      <td>1172.0</td>\n",
              "      <td>13162.169186</td>\n",
              "    </tr>\n",
              "    <tr>\n",
              "      <th>7336</th>\n",
              "      <td>18320</td>\n",
              "      <td>548.0</td>\n",
              "      <td>8.0</td>\n",
              "      <td>340.0</td>\n",
              "      <td>2301.578846</td>\n",
              "    </tr>\n",
              "    <tr>\n",
              "      <th>7337</th>\n",
              "      <td>18323</td>\n",
              "      <td>76.0</td>\n",
              "      <td>3.0</td>\n",
              "      <td>73.0</td>\n",
              "      <td>140.666555</td>\n",
              "    </tr>\n",
              "    <tr>\n",
              "      <th>7338</th>\n",
              "      <td>18325</td>\n",
              "      <td>185.0</td>\n",
              "      <td>2.0</td>\n",
              "      <td>180.0</td>\n",
              "      <td>239.418160</td>\n",
              "    </tr>\n",
              "    <tr>\n",
              "      <th>7339</th>\n",
              "      <td>18326</td>\n",
              "      <td>1268.0</td>\n",
              "      <td>1.0</td>\n",
              "      <td>1256.0</td>\n",
              "      <td>840.334886</td>\n",
              "    </tr>\n",
              "  </tbody>\n",
              "</table>\n",
              "<p>7340 rows × 5 columns</p>\n",
              "</div>\n",
              "      <button class=\"colab-df-convert\" onclick=\"convertToInteractive('df-db94eb3f-89c6-4a9d-b4a6-ed3702d2f33c')\"\n",
              "              title=\"Convert this dataframe to an interactive table.\"\n",
              "              style=\"display:none;\">\n",
              "        \n",
              "  <svg xmlns=\"http://www.w3.org/2000/svg\" height=\"24px\"viewBox=\"0 0 24 24\"\n",
              "       width=\"24px\">\n",
              "    <path d=\"M0 0h24v24H0V0z\" fill=\"none\"/>\n",
              "    <path d=\"M18.56 5.44l.94 2.06.94-2.06 2.06-.94-2.06-.94-.94-2.06-.94 2.06-2.06.94zm-11 1L8.5 8.5l.94-2.06 2.06-.94-2.06-.94L8.5 2.5l-.94 2.06-2.06.94zm10 10l.94 2.06.94-2.06 2.06-.94-2.06-.94-.94-2.06-.94 2.06-2.06.94z\"/><path d=\"M17.41 7.96l-1.37-1.37c-.4-.4-.92-.59-1.43-.59-.52 0-1.04.2-1.43.59L10.3 9.45l-7.72 7.72c-.78.78-.78 2.05 0 2.83L4 21.41c.39.39.9.59 1.41.59.51 0 1.02-.2 1.41-.59l7.78-7.78 2.81-2.81c.8-.78.8-2.07 0-2.86zM5.41 20L4 18.59l7.72-7.72 1.47 1.35L5.41 20z\"/>\n",
              "  </svg>\n",
              "      </button>\n",
              "      \n",
              "  <style>\n",
              "    .colab-df-container {\n",
              "      display:flex;\n",
              "      flex-wrap:wrap;\n",
              "      gap: 12px;\n",
              "    }\n",
              "\n",
              "    .colab-df-convert {\n",
              "      background-color: #E8F0FE;\n",
              "      border: none;\n",
              "      border-radius: 50%;\n",
              "      cursor: pointer;\n",
              "      display: none;\n",
              "      fill: #1967D2;\n",
              "      height: 32px;\n",
              "      padding: 0 0 0 0;\n",
              "      width: 32px;\n",
              "    }\n",
              "\n",
              "    .colab-df-convert:hover {\n",
              "      background-color: #E2EBFA;\n",
              "      box-shadow: 0px 1px 2px rgba(60, 64, 67, 0.3), 0px 1px 3px 1px rgba(60, 64, 67, 0.15);\n",
              "      fill: #174EA6;\n",
              "    }\n",
              "\n",
              "    [theme=dark] .colab-df-convert {\n",
              "      background-color: #3B4455;\n",
              "      fill: #D2E3FC;\n",
              "    }\n",
              "\n",
              "    [theme=dark] .colab-df-convert:hover {\n",
              "      background-color: #434B5C;\n",
              "      box-shadow: 0px 1px 3px 1px rgba(0, 0, 0, 0.15);\n",
              "      filter: drop-shadow(0px 1px 2px rgba(0, 0, 0, 0.3));\n",
              "      fill: #FFFFFF;\n",
              "    }\n",
              "  </style>\n",
              "\n",
              "      <script>\n",
              "        const buttonEl =\n",
              "          document.querySelector('#df-db94eb3f-89c6-4a9d-b4a6-ed3702d2f33c button.colab-df-convert');\n",
              "        buttonEl.style.display =\n",
              "          google.colab.kernel.accessAllowed ? 'block' : 'none';\n",
              "\n",
              "        async function convertToInteractive(key) {\n",
              "          const element = document.querySelector('#df-db94eb3f-89c6-4a9d-b4a6-ed3702d2f33c');\n",
              "          const dataTable =\n",
              "            await google.colab.kernel.invokeFunction('convertToInteractive',\n",
              "                                                     [key], {});\n",
              "          if (!dataTable) return;\n",
              "\n",
              "          const docLinkHtml = 'Like what you see? Visit the ' +\n",
              "            '<a target=\"_blank\" href=https://colab.research.google.com/notebooks/data_table.ipynb>data table notebook</a>'\n",
              "            + ' to learn more about interactive tables.';\n",
              "          element.innerHTML = '';\n",
              "          dataTable['output_type'] = 'display_data';\n",
              "          await google.colab.output.renderOutput(dataTable, element);\n",
              "          const docLink = document.createElement('div');\n",
              "          docLink.innerHTML = docLinkHtml;\n",
              "          element.appendChild(docLink);\n",
              "        }\n",
              "      </script>\n",
              "    </div>\n",
              "  </div>\n",
              "  "
            ]
          },
          "metadata": {},
          "execution_count": 478
        }
      ]
    },
    {
      "cell_type": "code",
      "source": [
        "#Set Target Variable\n",
        "output_var = pd.DataFrame(df['covid_close'])\n",
        "#Selecting the Features\n",
        "features = ['Confirmed','Deaths']"
      ],
      "metadata": {
        "id": "xHqprXUvp7hM"
      },
      "execution_count": 479,
      "outputs": []
    },
    {
      "cell_type": "code",
      "source": [
        "#Scaling\n",
        "scaler = MinMaxScaler()\n",
        "feature_transform = scaler.fit_transform(df[features])\n",
        "feature_transform= pd.DataFrame(columns=features, data=feature_transform, index=df.index)\n",
        "feature_transform.head()"
      ],
      "metadata": {
        "colab": {
          "base_uri": "https://localhost:8080/",
          "height": 206
        },
        "id": "mP3_p5Qtqw1R",
        "outputId": "ecd13661-dd4c-42a6-b9e6-bf5261d371ab"
      },
      "execution_count": 480,
      "outputs": [
        {
          "output_type": "execute_result",
          "data": {
            "text/plain": [
              "   Confirmed    Deaths\n",
              "0   0.002007  0.000616\n",
              "1   0.002007  0.000616\n",
              "2   0.002485  0.000886\n",
              "3   0.003449  0.001502\n",
              "4   0.004801  0.001964"
            ],
            "text/html": [
              "\n",
              "  <div id=\"df-f69c469e-b967-47b0-88ab-3b8b7c3e610d\">\n",
              "    <div class=\"colab-df-container\">\n",
              "      <div>\n",
              "<style scoped>\n",
              "    .dataframe tbody tr th:only-of-type {\n",
              "        vertical-align: middle;\n",
              "    }\n",
              "\n",
              "    .dataframe tbody tr th {\n",
              "        vertical-align: top;\n",
              "    }\n",
              "\n",
              "    .dataframe thead th {\n",
              "        text-align: right;\n",
              "    }\n",
              "</style>\n",
              "<table border=\"1\" class=\"dataframe\">\n",
              "  <thead>\n",
              "    <tr style=\"text-align: right;\">\n",
              "      <th></th>\n",
              "      <th>Confirmed</th>\n",
              "      <th>Deaths</th>\n",
              "    </tr>\n",
              "  </thead>\n",
              "  <tbody>\n",
              "    <tr>\n",
              "      <th>0</th>\n",
              "      <td>0.002007</td>\n",
              "      <td>0.000616</td>\n",
              "    </tr>\n",
              "    <tr>\n",
              "      <th>1</th>\n",
              "      <td>0.002007</td>\n",
              "      <td>0.000616</td>\n",
              "    </tr>\n",
              "    <tr>\n",
              "      <th>2</th>\n",
              "      <td>0.002485</td>\n",
              "      <td>0.000886</td>\n",
              "    </tr>\n",
              "    <tr>\n",
              "      <th>3</th>\n",
              "      <td>0.003449</td>\n",
              "      <td>0.001502</td>\n",
              "    </tr>\n",
              "    <tr>\n",
              "      <th>4</th>\n",
              "      <td>0.004801</td>\n",
              "      <td>0.001964</td>\n",
              "    </tr>\n",
              "  </tbody>\n",
              "</table>\n",
              "</div>\n",
              "      <button class=\"colab-df-convert\" onclick=\"convertToInteractive('df-f69c469e-b967-47b0-88ab-3b8b7c3e610d')\"\n",
              "              title=\"Convert this dataframe to an interactive table.\"\n",
              "              style=\"display:none;\">\n",
              "        \n",
              "  <svg xmlns=\"http://www.w3.org/2000/svg\" height=\"24px\"viewBox=\"0 0 24 24\"\n",
              "       width=\"24px\">\n",
              "    <path d=\"M0 0h24v24H0V0z\" fill=\"none\"/>\n",
              "    <path d=\"M18.56 5.44l.94 2.06.94-2.06 2.06-.94-2.06-.94-.94-2.06-.94 2.06-2.06.94zm-11 1L8.5 8.5l.94-2.06 2.06-.94-2.06-.94L8.5 2.5l-.94 2.06-2.06.94zm10 10l.94 2.06.94-2.06 2.06-.94-2.06-.94-.94-2.06-.94 2.06-2.06.94z\"/><path d=\"M17.41 7.96l-1.37-1.37c-.4-.4-.92-.59-1.43-.59-.52 0-1.04.2-1.43.59L10.3 9.45l-7.72 7.72c-.78.78-.78 2.05 0 2.83L4 21.41c.39.39.9.59 1.41.59.51 0 1.02-.2 1.41-.59l7.78-7.78 2.81-2.81c.8-.78.8-2.07 0-2.86zM5.41 20L4 18.59l7.72-7.72 1.47 1.35L5.41 20z\"/>\n",
              "  </svg>\n",
              "      </button>\n",
              "      \n",
              "  <style>\n",
              "    .colab-df-container {\n",
              "      display:flex;\n",
              "      flex-wrap:wrap;\n",
              "      gap: 12px;\n",
              "    }\n",
              "\n",
              "    .colab-df-convert {\n",
              "      background-color: #E8F0FE;\n",
              "      border: none;\n",
              "      border-radius: 50%;\n",
              "      cursor: pointer;\n",
              "      display: none;\n",
              "      fill: #1967D2;\n",
              "      height: 32px;\n",
              "      padding: 0 0 0 0;\n",
              "      width: 32px;\n",
              "    }\n",
              "\n",
              "    .colab-df-convert:hover {\n",
              "      background-color: #E2EBFA;\n",
              "      box-shadow: 0px 1px 2px rgba(60, 64, 67, 0.3), 0px 1px 3px 1px rgba(60, 64, 67, 0.15);\n",
              "      fill: #174EA6;\n",
              "    }\n",
              "\n",
              "    [theme=dark] .colab-df-convert {\n",
              "      background-color: #3B4455;\n",
              "      fill: #D2E3FC;\n",
              "    }\n",
              "\n",
              "    [theme=dark] .colab-df-convert:hover {\n",
              "      background-color: #434B5C;\n",
              "      box-shadow: 0px 1px 3px 1px rgba(0, 0, 0, 0.15);\n",
              "      filter: drop-shadow(0px 1px 2px rgba(0, 0, 0, 0.3));\n",
              "      fill: #FFFFFF;\n",
              "    }\n",
              "  </style>\n",
              "\n",
              "      <script>\n",
              "        const buttonEl =\n",
              "          document.querySelector('#df-f69c469e-b967-47b0-88ab-3b8b7c3e610d button.colab-df-convert');\n",
              "        buttonEl.style.display =\n",
              "          google.colab.kernel.accessAllowed ? 'block' : 'none';\n",
              "\n",
              "        async function convertToInteractive(key) {\n",
              "          const element = document.querySelector('#df-f69c469e-b967-47b0-88ab-3b8b7c3e610d');\n",
              "          const dataTable =\n",
              "            await google.colab.kernel.invokeFunction('convertToInteractive',\n",
              "                                                     [key], {});\n",
              "          if (!dataTable) return;\n",
              "\n",
              "          const docLinkHtml = 'Like what you see? Visit the ' +\n",
              "            '<a target=\"_blank\" href=https://colab.research.google.com/notebooks/data_table.ipynb>data table notebook</a>'\n",
              "            + ' to learn more about interactive tables.';\n",
              "          element.innerHTML = '';\n",
              "          dataTable['output_type'] = 'display_data';\n",
              "          await google.colab.output.renderOutput(dataTable, element);\n",
              "          const docLink = document.createElement('div');\n",
              "          docLink.innerHTML = docLinkHtml;\n",
              "          element.appendChild(docLink);\n",
              "        }\n",
              "      </script>\n",
              "    </div>\n",
              "  </div>\n",
              "  "
            ]
          },
          "metadata": {},
          "execution_count": 480
        }
      ]
    },
    {
      "cell_type": "code",
      "source": [
        "#Splitting to Training set and Test set\n",
        "timesplit= TimeSeriesSplit(n_splits=10)\n",
        "for train_index, test_index in timesplit.split(feature_transform):\n",
        "        X_train, X_test = feature_transform[:len(train_index)], feature_transform[len(train_index): (len(train_index)+len(test_index))]\n",
        "        y_train, y_test = output_var[:len(train_index)].values.ravel(), output_var[len(train_index): (len(train_index)+len(test_index))].values.ravel()"
      ],
      "metadata": {
        "id": "6u5hGA5zrB_d"
      },
      "execution_count": 481,
      "outputs": []
    },
    {
      "cell_type": "code",
      "source": [
        "X_test"
      ],
      "metadata": {
        "colab": {
          "base_uri": "https://localhost:8080/",
          "height": 424
        },
        "id": "yWKWgj7otIvL",
        "outputId": "7eba93ed-9766-4515-c395-5dd4c785d810"
      },
      "execution_count": 482,
      "outputs": [
        {
          "output_type": "execute_result",
          "data": {
            "text/plain": [
              "      Confirmed    Deaths\n",
              "6673   0.029714  0.000308\n",
              "6674   0.042041  0.019139\n",
              "6675   0.240079  0.017522\n",
              "6676   0.002152  0.001502\n",
              "6677   0.052912  0.004159\n",
              "...         ...       ...\n",
              "7335   0.006098  0.000578\n",
              "7336   0.002480  0.000270\n",
              "7337   0.000332  0.000077\n",
              "7338   0.000828  0.000039\n",
              "7339   0.005756  0.000000\n",
              "\n",
              "[667 rows x 2 columns]"
            ],
            "text/html": [
              "\n",
              "  <div id=\"df-b2312af3-bf3e-4198-8b04-862748c1a8e5\">\n",
              "    <div class=\"colab-df-container\">\n",
              "      <div>\n",
              "<style scoped>\n",
              "    .dataframe tbody tr th:only-of-type {\n",
              "        vertical-align: middle;\n",
              "    }\n",
              "\n",
              "    .dataframe tbody tr th {\n",
              "        vertical-align: top;\n",
              "    }\n",
              "\n",
              "    .dataframe thead th {\n",
              "        text-align: right;\n",
              "    }\n",
              "</style>\n",
              "<table border=\"1\" class=\"dataframe\">\n",
              "  <thead>\n",
              "    <tr style=\"text-align: right;\">\n",
              "      <th></th>\n",
              "      <th>Confirmed</th>\n",
              "      <th>Deaths</th>\n",
              "    </tr>\n",
              "  </thead>\n",
              "  <tbody>\n",
              "    <tr>\n",
              "      <th>6673</th>\n",
              "      <td>0.029714</td>\n",
              "      <td>0.000308</td>\n",
              "    </tr>\n",
              "    <tr>\n",
              "      <th>6674</th>\n",
              "      <td>0.042041</td>\n",
              "      <td>0.019139</td>\n",
              "    </tr>\n",
              "    <tr>\n",
              "      <th>6675</th>\n",
              "      <td>0.240079</td>\n",
              "      <td>0.017522</td>\n",
              "    </tr>\n",
              "    <tr>\n",
              "      <th>6676</th>\n",
              "      <td>0.002152</td>\n",
              "      <td>0.001502</td>\n",
              "    </tr>\n",
              "    <tr>\n",
              "      <th>6677</th>\n",
              "      <td>0.052912</td>\n",
              "      <td>0.004159</td>\n",
              "    </tr>\n",
              "    <tr>\n",
              "      <th>...</th>\n",
              "      <td>...</td>\n",
              "      <td>...</td>\n",
              "    </tr>\n",
              "    <tr>\n",
              "      <th>7335</th>\n",
              "      <td>0.006098</td>\n",
              "      <td>0.000578</td>\n",
              "    </tr>\n",
              "    <tr>\n",
              "      <th>7336</th>\n",
              "      <td>0.002480</td>\n",
              "      <td>0.000270</td>\n",
              "    </tr>\n",
              "    <tr>\n",
              "      <th>7337</th>\n",
              "      <td>0.000332</td>\n",
              "      <td>0.000077</td>\n",
              "    </tr>\n",
              "    <tr>\n",
              "      <th>7338</th>\n",
              "      <td>0.000828</td>\n",
              "      <td>0.000039</td>\n",
              "    </tr>\n",
              "    <tr>\n",
              "      <th>7339</th>\n",
              "      <td>0.005756</td>\n",
              "      <td>0.000000</td>\n",
              "    </tr>\n",
              "  </tbody>\n",
              "</table>\n",
              "<p>667 rows × 2 columns</p>\n",
              "</div>\n",
              "      <button class=\"colab-df-convert\" onclick=\"convertToInteractive('df-b2312af3-bf3e-4198-8b04-862748c1a8e5')\"\n",
              "              title=\"Convert this dataframe to an interactive table.\"\n",
              "              style=\"display:none;\">\n",
              "        \n",
              "  <svg xmlns=\"http://www.w3.org/2000/svg\" height=\"24px\"viewBox=\"0 0 24 24\"\n",
              "       width=\"24px\">\n",
              "    <path d=\"M0 0h24v24H0V0z\" fill=\"none\"/>\n",
              "    <path d=\"M18.56 5.44l.94 2.06.94-2.06 2.06-.94-2.06-.94-.94-2.06-.94 2.06-2.06.94zm-11 1L8.5 8.5l.94-2.06 2.06-.94-2.06-.94L8.5 2.5l-.94 2.06-2.06.94zm10 10l.94 2.06.94-2.06 2.06-.94-2.06-.94-.94-2.06-.94 2.06-2.06.94z\"/><path d=\"M17.41 7.96l-1.37-1.37c-.4-.4-.92-.59-1.43-.59-.52 0-1.04.2-1.43.59L10.3 9.45l-7.72 7.72c-.78.78-.78 2.05 0 2.83L4 21.41c.39.39.9.59 1.41.59.51 0 1.02-.2 1.41-.59l7.78-7.78 2.81-2.81c.8-.78.8-2.07 0-2.86zM5.41 20L4 18.59l7.72-7.72 1.47 1.35L5.41 20z\"/>\n",
              "  </svg>\n",
              "      </button>\n",
              "      \n",
              "  <style>\n",
              "    .colab-df-container {\n",
              "      display:flex;\n",
              "      flex-wrap:wrap;\n",
              "      gap: 12px;\n",
              "    }\n",
              "\n",
              "    .colab-df-convert {\n",
              "      background-color: #E8F0FE;\n",
              "      border: none;\n",
              "      border-radius: 50%;\n",
              "      cursor: pointer;\n",
              "      display: none;\n",
              "      fill: #1967D2;\n",
              "      height: 32px;\n",
              "      padding: 0 0 0 0;\n",
              "      width: 32px;\n",
              "    }\n",
              "\n",
              "    .colab-df-convert:hover {\n",
              "      background-color: #E2EBFA;\n",
              "      box-shadow: 0px 1px 2px rgba(60, 64, 67, 0.3), 0px 1px 3px 1px rgba(60, 64, 67, 0.15);\n",
              "      fill: #174EA6;\n",
              "    }\n",
              "\n",
              "    [theme=dark] .colab-df-convert {\n",
              "      background-color: #3B4455;\n",
              "      fill: #D2E3FC;\n",
              "    }\n",
              "\n",
              "    [theme=dark] .colab-df-convert:hover {\n",
              "      background-color: #434B5C;\n",
              "      box-shadow: 0px 1px 3px 1px rgba(0, 0, 0, 0.15);\n",
              "      filter: drop-shadow(0px 1px 2px rgba(0, 0, 0, 0.3));\n",
              "      fill: #FFFFFF;\n",
              "    }\n",
              "  </style>\n",
              "\n",
              "      <script>\n",
              "        const buttonEl =\n",
              "          document.querySelector('#df-b2312af3-bf3e-4198-8b04-862748c1a8e5 button.colab-df-convert');\n",
              "        buttonEl.style.display =\n",
              "          google.colab.kernel.accessAllowed ? 'block' : 'none';\n",
              "\n",
              "        async function convertToInteractive(key) {\n",
              "          const element = document.querySelector('#df-b2312af3-bf3e-4198-8b04-862748c1a8e5');\n",
              "          const dataTable =\n",
              "            await google.colab.kernel.invokeFunction('convertToInteractive',\n",
              "                                                     [key], {});\n",
              "          if (!dataTable) return;\n",
              "\n",
              "          const docLinkHtml = 'Like what you see? Visit the ' +\n",
              "            '<a target=\"_blank\" href=https://colab.research.google.com/notebooks/data_table.ipynb>data table notebook</a>'\n",
              "            + ' to learn more about interactive tables.';\n",
              "          element.innerHTML = '';\n",
              "          dataTable['output_type'] = 'display_data';\n",
              "          await google.colab.output.renderOutput(dataTable, element);\n",
              "          const docLink = document.createElement('div');\n",
              "          docLink.innerHTML = docLinkHtml;\n",
              "          element.appendChild(docLink);\n",
              "        }\n",
              "      </script>\n",
              "    </div>\n",
              "  </div>\n",
              "  "
            ]
          },
          "metadata": {},
          "execution_count": 482
        }
      ]
    },
    {
      "cell_type": "code",
      "source": [
        "trainX =np.array(X_train)\n",
        "testX =np.array(X_test)\n",
        "X_train = trainX.reshape(X_train.shape[0], X_train.shape[1])\n",
        "X_test = testX.reshape(X_test.shape[0], X_test.shape[1])"
      ],
      "metadata": {
        "id": "fQ3ffVOytOKQ"
      },
      "execution_count": 483,
      "outputs": []
    },
    {
      "cell_type": "markdown",
      "source": [
        "# <u>Machine Learning Models and Deep Learning Models used for Prediction</u>\n",
        "\n",
        "\n",
        "1.   Linear Regression\n",
        "2.   Quadratic Regression\n",
        "3.   KNN (K Nearest Neighbour)\n",
        "4.   LSTM Model (Long Short Term Memory)\n",
        "\n"
      ],
      "metadata": {
        "id": "dKAwAX01uxFz"
      }
    },
    {
      "cell_type": "code",
      "source": [
        "## Linear Regression and Quadratic Regression\n",
        "\n",
        "Linear_Regression = LinearRegression(n_jobs=-1)\n",
        "Linear_Regression.fit(X_train,y_train)\n",
        "\n",
        "Quadratic_Regression_2 = make_pipeline(PolynomialFeatures(2),Ridge())\n",
        "Quadratic_Regression_2.fit(X_train,y_train)\n",
        "\n",
        "Quadratic_Regression_3 = make_pipeline(PolynomialFeatures(3),Ridge())\n",
        "Quadratic_Regression_3.fit(X_train,y_train)"
      ],
      "metadata": {
        "colab": {
          "base_uri": "https://localhost:8080/"
        },
        "id": "2BzCyDIDvqPF",
        "outputId": "52f3f155-1824-423e-90d9-1edb194c0a55"
      },
      "execution_count": 484,
      "outputs": [
        {
          "output_type": "execute_result",
          "data": {
            "text/plain": [
              "Pipeline(steps=[('polynomialfeatures', PolynomialFeatures(degree=3)),\n",
              "                ('ridge', Ridge())])"
            ]
          },
          "metadata": {},
          "execution_count": 484
        }
      ]
    },
    {
      "cell_type": "code",
      "source": [
        "## K Nearest Neighbours\n",
        "# KNN Regression\n",
        "KNN = KNeighborsRegressor(n_neighbors=2)\n",
        "KNN.fit(X_train, y_train)"
      ],
      "metadata": {
        "colab": {
          "base_uri": "https://localhost:8080/"
        },
        "id": "bFiQ47eBxNEH",
        "outputId": "e51e9d9c-72d3-48a2-8160-d798ba810380"
      },
      "execution_count": 485,
      "outputs": [
        {
          "output_type": "execute_result",
          "data": {
            "text/plain": [
              "KNeighborsRegressor(n_neighbors=2)"
            ]
          },
          "metadata": {},
          "execution_count": 485
        }
      ]
    },
    {
      "cell_type": "code",
      "source": [
        "# Support Vector Machine\n",
        "SVC = SVR(kernel = 'linear',gamma = 'scale', shrinking = False,)\n",
        "SVC.fit(X_train, y_train)"
      ],
      "metadata": {
        "colab": {
          "base_uri": "https://localhost:8080/"
        },
        "id": "4ScGLs31xmJe",
        "outputId": "fdcecba1-2dd4-444c-87e5-d0639f2338e1"
      },
      "execution_count": 486,
      "outputs": [
        {
          "output_type": "execute_result",
          "data": {
            "text/plain": [
              "SVR(kernel='linear', shrinking=False)"
            ]
          },
          "metadata": {},
          "execution_count": 486
        }
      ]
    },
    {
      "cell_type": "code",
      "source": [
        "#Machine Learning Metrics\n",
        "\n",
        "LinearRegression_Score       = Linear_Regression.score(X_test,y_test)\n",
        "Quadratic_Regression_2_Score = Quadratic_Regression_2.score(X_test,y_test)\n",
        "Quadratic_Regression_3_Score = Quadratic_Regression_3.score(X_test,y_test)\n",
        "KNN_Score                    = KNN.score(X_test, y_test)\n",
        "SVM_Score                    = SVC.score(X_test, y_test)"
      ],
      "metadata": {
        "id": "vDvCDjbFxV4l"
      },
      "execution_count": 487,
      "outputs": []
    },
    {
      "cell_type": "code",
      "source": [
        "print('LinearRegression_Score : ',LinearRegression_Score*100 )\n",
        "print('Quadratic_Regression_2_Score: ',Quadratic_Regression_2_Score*100)\n",
        "print('Quadratic_Regression_3_Score: ',Quadratic_Regression_3_Score*100)\n",
        "print('KNN_Score: ',KNN_Score*100)\n",
        "print('SVM_Score ',SVM_Score*100 )"
      ],
      "metadata": {
        "colab": {
          "base_uri": "https://localhost:8080/"
        },
        "id": "tTYmrVq3yhdz",
        "outputId": "a798b5ed-4464-4ccd-93fb-4236c45910cb"
      },
      "execution_count": 488,
      "outputs": [
        {
          "output_type": "stream",
          "name": "stdout",
          "text": [
            "LinearRegression_Score :  84.21115918630255\n",
            "Quadratic_Regression_2_Score:  96.93845089795987\n",
            "Quadratic_Regression_3_Score:  99.0677289638927\n",
            "KNN_Score:  98.29562374866305\n",
            "SVM_Score  -2.256830485903216\n"
          ]
        }
      ]
    },
    {
      "cell_type": "code",
      "source": [
        "# Deep Learning Model\n",
        "X_train = trainX.reshape(X_train.shape[0],1, X_train.shape[1])\n",
        "X_test = testX.reshape(X_test.shape[0],1, X_test.shape[1])"
      ],
      "metadata": {
        "id": "87g55N344-DJ"
      },
      "execution_count": 489,
      "outputs": []
    },
    {
      "cell_type": "code",
      "source": [
        "model = tf.keras.Sequential()\n",
        "model.add(tf.keras.layers.Dense(8))\n",
        "model.add(tf.keras.layers.Dense(1))\n",
        "model.compile(optimizer='adam', loss='mse')\n",
        "history=model.fit(X_train, y_train, epochs=10, batch_size=8, verbose=1, shuffle=False)"
      ],
      "metadata": {
        "colab": {
          "base_uri": "https://localhost:8080/"
        },
        "id": "5h-5wWDcyzdm",
        "outputId": "b55c200e-b94d-4baa-b7d8-683e9803fa18"
      },
      "execution_count": 490,
      "outputs": [
        {
          "output_type": "stream",
          "name": "stdout",
          "text": [
            "Epoch 1/10\n",
            "835/835 [==============================] - 2s 2ms/step - loss: 6499415095246848.0000\n",
            "Epoch 2/10\n",
            "835/835 [==============================] - 2s 2ms/step - loss: 6499415095246848.0000\n",
            "Epoch 3/10\n",
            "835/835 [==============================] - 2s 2ms/step - loss: 6499415095246848.0000\n",
            "Epoch 4/10\n",
            "835/835 [==============================] - 2s 2ms/step - loss: 6499414558375936.0000\n",
            "Epoch 5/10\n",
            "835/835 [==============================] - 2s 2ms/step - loss: 6499414021505024.0000\n",
            "Epoch 6/10\n",
            "835/835 [==============================] - 2s 2ms/step - loss: 6499414021505024.0000\n",
            "Epoch 7/10\n",
            "835/835 [==============================] - 2s 2ms/step - loss: 6499414021505024.0000\n",
            "Epoch 8/10\n",
            "835/835 [==============================] - 2s 2ms/step - loss: 6499412947763200.0000\n",
            "Epoch 9/10\n",
            "835/835 [==============================] - 2s 2ms/step - loss: 6499412947763200.0000\n",
            "Epoch 10/10\n",
            "835/835 [==============================] - 2s 2ms/step - loss: 6499411874021376.0000\n"
          ]
        }
      ]
    },
    {
      "cell_type": "code",
      "source": [
        "y_pred = model.predict(X_test)\n"
      ],
      "metadata": {
        "colab": {
          "base_uri": "https://localhost:8080/"
        },
        "id": "aDRubRJn3G3Y",
        "outputId": "d9792aea-2553-45f7-bf4b-d90039a121bd"
      },
      "execution_count": 491,
      "outputs": [
        {
          "output_type": "stream",
          "name": "stdout",
          "text": [
            "21/21 [==============================] - 0s 3ms/step\n"
          ]
        }
      ]
    },
    {
      "cell_type": "markdown",
      "source": [
        "#Thank You"
      ],
      "metadata": {
        "id": "muRh6bSK8g2K"
      }
    }
  ]
}